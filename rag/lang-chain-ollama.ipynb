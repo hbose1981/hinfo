{
 "cells": [
  {
   "cell_type": "code",
   "execution_count": 1,
   "id": "513fa047-7cbc-4fd2-a9c3-fca7b59c928a",
   "metadata": {},
   "outputs": [],
   "source": [
    "from langchain_ollama import OllamaLLM"
   ]
  },
  {
   "cell_type": "code",
   "execution_count": 4,
   "id": "923cadb7-a1f3-4436-ae36-fc43f439ea45",
   "metadata": {},
   "outputs": [],
   "source": [
    "llm = OllamaLLM(model=\"qwen3:8b\")"
   ]
  },
  {
   "cell_type": "code",
   "execution_count": 15,
   "id": "280c83da-afa3-47c9-bd28-a10439352e12",
   "metadata": {},
   "outputs": [],
   "source": [
    "response = llm.invoke(\"how are you\")"
   ]
  },
  {
   "cell_type": "code",
   "execution_count": 7,
   "id": "d0165411-62cc-4fa1-afeb-b43fa97fc173",
   "metadata": {},
   "outputs": [
    {
     "name": "stdout",
     "output_type": "stream",
     "text": [
      "<think>\n",
      "Okay, the user asked \"how are you\". I need to respond in a friendly and engaging way. First, I should acknowledge their greeting. Since I'm an AI, I don't have feelings, but I can express that I'm here to help. Maybe add a bit of personality to make it more conversational.\n",
      "\n",
      "I should keep the response light and positive. Maybe mention being ready to assist with any questions they have. Also, invite them to ask for help if they need anything. Let me check if there's anything else to add. Maybe a smiley or an emoji to keep it friendly. Alright, that should cover it.\n",
      "</think>\n",
      "\n",
      "Hello! I'm just a virtual assistant, so I don't have feelings, but I'm here and ready to help you with anything you need! 😊 How can I assist you today?\n"
     ]
    }
   ],
   "source": [
    "print(response)"
   ]
  },
  {
   "cell_type": "code",
   "execution_count": 8,
   "id": "39760640-8be3-47e1-9674-8780c828ab28",
   "metadata": {},
   "outputs": [],
   "source": [
    "import requests, json"
   ]
  },
  {
   "cell_type": "code",
   "execution_count": 9,
   "id": "aa125c7d-bac9-44fc-899d-56bc2a2ec02e",
   "metadata": {},
   "outputs": [],
   "source": [
    "prompt = {\"model\": \"qwen3:8b\", \"prompt\": \"Hello\"}"
   ]
  },
  {
   "cell_type": "code",
   "execution_count": 10,
   "id": "e666920d-3142-4307-8e34-d68c35ee6ccb",
   "metadata": {},
   "outputs": [],
   "source": [
    "res = requests.post(\"http://localhost:11434/api/generate\", json=prompt, stream=True)"
   ]
  },
  {
   "cell_type": "code",
   "execution_count": 12,
   "id": "fd5a1d20-a814-4b09-ac80-35c5784bc184",
   "metadata": {},
   "outputs": [
    {
     "name": "stdout",
     "output_type": "stream",
     "text": [
      "{'model': 'qwen3:8b', 'created_at': '2025-08-30T10:11:12.4434098Z', 'response': '<think>', 'done': False}\n",
      "{'model': 'qwen3:8b', 'created_at': '2025-08-30T10:11:13.7575626Z', 'response': '\\n', 'done': False}\n",
      "{'model': 'qwen3:8b', 'created_at': '2025-08-30T10:11:14.1066144Z', 'response': 'Okay', 'done': False}\n",
      "{'model': 'qwen3:8b', 'created_at': '2025-08-30T10:11:14.4270406Z', 'response': ',', 'done': False}\n",
      "{'model': 'qwen3:8b', 'created_at': '2025-08-30T10:11:14.7618312Z', 'response': ' the', 'done': False}\n",
      "{'model': 'qwen3:8b', 'created_at': '2025-08-30T10:11:15.0760606Z', 'response': ' user', 'done': False}\n",
      "{'model': 'qwen3:8b', 'created_at': '2025-08-30T10:11:15.3881264Z', 'response': ' said', 'done': False}\n",
      "{'model': 'qwen3:8b', 'created_at': '2025-08-30T10:11:15.740301Z', 'response': ' \"', 'done': False}\n",
      "{'model': 'qwen3:8b', 'created_at': '2025-08-30T10:11:16.0876227Z', 'response': 'Hello', 'done': False}\n",
      "{'model': 'qwen3:8b', 'created_at': '2025-08-30T10:11:16.3955453Z', 'response': '\".', 'done': False}\n",
      "{'model': 'qwen3:8b', 'created_at': '2025-08-30T10:11:16.7171974Z', 'response': ' I', 'done': False}\n",
      "{'model': 'qwen3:8b', 'created_at': '2025-08-30T10:11:17.0171041Z', 'response': ' should', 'done': False}\n",
      "{'model': 'qwen3:8b', 'created_at': '2025-08-30T10:11:17.3185232Z', 'response': ' respond', 'done': False}\n",
      "{'model': 'qwen3:8b', 'created_at': '2025-08-30T10:11:17.6580031Z', 'response': ' in', 'done': False}\n",
      "{'model': 'qwen3:8b', 'created_at': '2025-08-30T10:11:17.9736313Z', 'response': ' a', 'done': False}\n",
      "{'model': 'qwen3:8b', 'created_at': '2025-08-30T10:11:18.2781737Z', 'response': ' friendly', 'done': False}\n",
      "{'model': 'qwen3:8b', 'created_at': '2025-08-30T10:11:18.6027124Z', 'response': ' and', 'done': False}\n",
      "{'model': 'qwen3:8b', 'created_at': '2025-08-30T10:11:18.9463875Z', 'response': ' welcoming', 'done': False}\n",
      "{'model': 'qwen3:8b', 'created_at': '2025-08-30T10:11:19.2383422Z', 'response': ' manner', 'done': False}\n",
      "{'model': 'qwen3:8b', 'created_at': '2025-08-30T10:11:19.5363266Z', 'response': '.', 'done': False}\n",
      "{'model': 'qwen3:8b', 'created_at': '2025-08-30T10:11:19.8807066Z', 'response': ' Let', 'done': False}\n",
      "{'model': 'qwen3:8b', 'created_at': '2025-08-30T10:11:20.1894004Z', 'response': ' me', 'done': False}\n",
      "{'model': 'qwen3:8b', 'created_at': '2025-08-30T10:11:20.4884323Z', 'response': ' make', 'done': False}\n",
      "{'model': 'qwen3:8b', 'created_at': '2025-08-30T10:11:20.7985802Z', 'response': ' sure', 'done': False}\n",
      "{'model': 'qwen3:8b', 'created_at': '2025-08-30T10:11:21.0876763Z', 'response': ' to', 'done': False}\n",
      "{'model': 'qwen3:8b', 'created_at': '2025-08-30T10:11:21.4020026Z', 'response': ' acknowledge', 'done': False}\n",
      "{'model': 'qwen3:8b', 'created_at': '2025-08-30T10:11:21.7141135Z', 'response': ' their', 'done': False}\n",
      "{'model': 'qwen3:8b', 'created_at': '2025-08-30T10:11:22.0163477Z', 'response': ' greeting', 'done': False}\n",
      "{'model': 'qwen3:8b', 'created_at': '2025-08-30T10:11:22.3183669Z', 'response': ' and', 'done': False}\n",
      "{'model': 'qwen3:8b', 'created_at': '2025-08-30T10:11:22.6370475Z', 'response': ' offer', 'done': False}\n",
      "{'model': 'qwen3:8b', 'created_at': '2025-08-30T10:11:22.9525848Z', 'response': ' assistance', 'done': False}\n",
      "{'model': 'qwen3:8b', 'created_at': '2025-08-30T10:11:23.2852496Z', 'response': '.', 'done': False}\n",
      "{'model': 'qwen3:8b', 'created_at': '2025-08-30T10:11:23.6616879Z', 'response': ' Maybe', 'done': False}\n",
      "{'model': 'qwen3:8b', 'created_at': '2025-08-30T10:11:24.0155796Z', 'response': ' start', 'done': False}\n",
      "{'model': 'qwen3:8b', 'created_at': '2025-08-30T10:11:24.3559445Z', 'response': ' with', 'done': False}\n",
      "{'model': 'qwen3:8b', 'created_at': '2025-08-30T10:11:24.69468Z', 'response': ' a', 'done': False}\n",
      "{'model': 'qwen3:8b', 'created_at': '2025-08-30T10:11:25.0592458Z', 'response': ' cheerful', 'done': False}\n",
      "{'model': 'qwen3:8b', 'created_at': '2025-08-30T10:11:25.3989655Z', 'response': ' \"', 'done': False}\n",
      "{'model': 'qwen3:8b', 'created_at': '2025-08-30T10:11:25.7349715Z', 'response': 'Hello', 'done': False}\n",
      "{'model': 'qwen3:8b', 'created_at': '2025-08-30T10:11:26.0449074Z', 'response': '!\"', 'done': False}\n",
      "{'model': 'qwen3:8b', 'created_at': '2025-08-30T10:11:26.3324308Z', 'response': ' to', 'done': False}\n",
      "{'model': 'qwen3:8b', 'created_at': '2025-08-30T10:11:26.6227072Z', 'response': ' match', 'done': False}\n",
      "{'model': 'qwen3:8b', 'created_at': '2025-08-30T10:11:26.9208004Z', 'response': ' their', 'done': False}\n",
      "{'model': 'qwen3:8b', 'created_at': '2025-08-30T10:11:27.2114021Z', 'response': ' tone', 'done': False}\n",
      "{'model': 'qwen3:8b', 'created_at': '2025-08-30T10:11:27.5126675Z', 'response': '.', 'done': False}\n",
      "{'model': 'qwen3:8b', 'created_at': '2025-08-30T10:11:27.8140211Z', 'response': ' Then', 'done': False}\n",
      "{'model': 'qwen3:8b', 'created_at': '2025-08-30T10:11:28.1100797Z', 'response': ',', 'done': False}\n",
      "{'model': 'qwen3:8b', 'created_at': '2025-08-30T10:11:28.404518Z', 'response': ' ask', 'done': False}\n",
      "{'model': 'qwen3:8b', 'created_at': '2025-08-30T10:11:28.7179891Z', 'response': ' how', 'done': False}\n",
      "{'model': 'qwen3:8b', 'created_at': '2025-08-30T10:11:29.0160471Z', 'response': ' I', 'done': False}\n",
      "{'model': 'qwen3:8b', 'created_at': '2025-08-30T10:11:29.3023607Z', 'response': ' can', 'done': False}\n",
      "{'model': 'qwen3:8b', 'created_at': '2025-08-30T10:11:29.6346125Z', 'response': ' help', 'done': False}\n",
      "{'model': 'qwen3:8b', 'created_at': '2025-08-30T10:11:29.9305656Z', 'response': ' them', 'done': False}\n",
      "{'model': 'qwen3:8b', 'created_at': '2025-08-30T10:11:30.2287206Z', 'response': ' today', 'done': False}\n",
      "{'model': 'qwen3:8b', 'created_at': '2025-08-30T10:11:30.550585Z', 'response': '.', 'done': False}\n",
      "{'model': 'qwen3:8b', 'created_at': '2025-08-30T10:11:30.8540051Z', 'response': ' Keep', 'done': False}\n",
      "{'model': 'qwen3:8b', 'created_at': '2025-08-30T10:11:31.1533383Z', 'response': ' it', 'done': False}\n",
      "{'model': 'qwen3:8b', 'created_at': '2025-08-30T10:11:31.46172Z', 'response': ' simple', 'done': False}\n",
      "{'model': 'qwen3:8b', 'created_at': '2025-08-30T10:11:31.8321994Z', 'response': ' and', 'done': False}\n",
      "{'model': 'qwen3:8b', 'created_at': '2025-08-30T10:11:32.1364161Z', 'response': ' open', 'done': False}\n",
      "{'model': 'qwen3:8b', 'created_at': '2025-08-30T10:11:32.4479387Z', 'response': '-ended', 'done': False}\n",
      "{'model': 'qwen3:8b', 'created_at': '2025-08-30T10:11:32.810549Z', 'response': ' so', 'done': False}\n",
      "{'model': 'qwen3:8b', 'created_at': '2025-08-30T10:11:33.1943006Z', 'response': ' they', 'done': False}\n",
      "{'model': 'qwen3:8b', 'created_at': '2025-08-30T10:11:33.5299868Z', 'response': ' feel', 'done': False}\n",
      "{'model': 'qwen3:8b', 'created_at': '2025-08-30T10:11:33.9090995Z', 'response': ' comfortable', 'done': False}\n",
      "{'model': 'qwen3:8b', 'created_at': '2025-08-30T10:11:34.223829Z', 'response': ' sharing', 'done': False}\n",
      "{'model': 'qwen3:8b', 'created_at': '2025-08-30T10:11:34.5516044Z', 'response': ' what', 'done': False}\n",
      "{'model': 'qwen3:8b', 'created_at': '2025-08-30T10:11:34.9482269Z', 'response': ' they', 'done': False}\n",
      "{'model': 'qwen3:8b', 'created_at': '2025-08-30T10:11:35.2985325Z', 'response': ' need', 'done': False}\n",
      "{'model': 'qwen3:8b', 'created_at': '2025-08-30T10:11:35.6286047Z', 'response': '.', 'done': False}\n",
      "{'model': 'qwen3:8b', 'created_at': '2025-08-30T10:11:36.0158828Z', 'response': ' Avoid', 'done': False}\n",
      "{'model': 'qwen3:8b', 'created_at': '2025-08-30T10:11:36.3559432Z', 'response': ' any', 'done': False}\n",
      "{'model': 'qwen3:8b', 'created_at': '2025-08-30T10:11:36.6835048Z', 'response': ' complex', 'done': False}\n",
      "{'model': 'qwen3:8b', 'created_at': '2025-08-30T10:11:37.0554828Z', 'response': ' language', 'done': False}\n",
      "{'model': 'qwen3:8b', 'created_at': '2025-08-30T10:11:37.3625851Z', 'response': ' or', 'done': False}\n",
      "{'model': 'qwen3:8b', 'created_at': '2025-08-30T10:11:37.6923184Z', 'response': ' assumptions', 'done': False}\n",
      "{'model': 'qwen3:8b', 'created_at': '2025-08-30T10:11:38.0386928Z', 'response': '.', 'done': False}\n",
      "{'model': 'qwen3:8b', 'created_at': '2025-08-30T10:11:38.3413811Z', 'response': ' Just', 'done': False}\n",
      "{'model': 'qwen3:8b', 'created_at': '2025-08-30T10:11:38.6989247Z', 'response': ' a', 'done': False}\n",
      "{'model': 'qwen3:8b', 'created_at': '2025-08-30T10:11:39.007588Z', 'response': ' straightforward', 'done': False}\n",
      "{'model': 'qwen3:8b', 'created_at': '2025-08-30T10:11:39.2999895Z', 'response': ',', 'done': False}\n",
      "{'model': 'qwen3:8b', 'created_at': '2025-08-30T10:11:39.6088443Z', 'response': ' polite', 'done': False}\n",
      "{'model': 'qwen3:8b', 'created_at': '2025-08-30T10:11:39.931214Z', 'response': ' response', 'done': False}\n",
      "{'model': 'qwen3:8b', 'created_at': '2025-08-30T10:11:40.2581218Z', 'response': '.', 'done': False}\n",
      "{'model': 'qwen3:8b', 'created_at': '2025-08-30T10:11:40.6140394Z', 'response': ' Let', 'done': False}\n",
      "{'model': 'qwen3:8b', 'created_at': '2025-08-30T10:11:40.9385952Z', 'response': ' me', 'done': False}\n",
      "{'model': 'qwen3:8b', 'created_at': '2025-08-30T10:11:41.327596Z', 'response': ' check', 'done': False}\n",
      "{'model': 'qwen3:8b', 'created_at': '2025-08-30T10:11:41.654455Z', 'response': ' for', 'done': False}\n",
      "{'model': 'qwen3:8b', 'created_at': '2025-08-30T10:11:41.9581449Z', 'response': ' any', 'done': False}\n",
      "{'model': 'qwen3:8b', 'created_at': '2025-08-30T10:11:42.2626303Z', 'response': ' ty', 'done': False}\n",
      "{'model': 'qwen3:8b', 'created_at': '2025-08-30T10:11:42.6002579Z', 'response': 'pos', 'done': False}\n",
      "{'model': 'qwen3:8b', 'created_at': '2025-08-30T10:11:43.0272297Z', 'response': ' or', 'done': False}\n",
      "{'model': 'qwen3:8b', 'created_at': '2025-08-30T10:11:43.3533137Z', 'response': ' errors', 'done': False}\n",
      "{'model': 'qwen3:8b', 'created_at': '2025-08-30T10:11:43.7413399Z', 'response': '.', 'done': False}\n",
      "{'model': 'qwen3:8b', 'created_at': '2025-08-30T10:11:44.1345013Z', 'response': ' Yep', 'done': False}\n",
      "{'model': 'qwen3:8b', 'created_at': '2025-08-30T10:11:44.4503596Z', 'response': ',', 'done': False}\n",
      "{'model': 'qwen3:8b', 'created_at': '2025-08-30T10:11:44.854632Z', 'response': ' that', 'done': False}\n",
      "{'model': 'qwen3:8b', 'created_at': '2025-08-30T10:11:45.245165Z', 'response': ' looks', 'done': False}\n",
      "{'model': 'qwen3:8b', 'created_at': '2025-08-30T10:11:45.6369146Z', 'response': ' good', 'done': False}\n",
      "{'model': 'qwen3:8b', 'created_at': '2025-08-30T10:11:46.0288536Z', 'response': '.', 'done': False}\n",
      "{'model': 'qwen3:8b', 'created_at': '2025-08-30T10:11:46.4276343Z', 'response': ' Ready', 'done': False}\n",
      "{'model': 'qwen3:8b', 'created_at': '2025-08-30T10:11:46.763121Z', 'response': ' to', 'done': False}\n",
      "{'model': 'qwen3:8b', 'created_at': '2025-08-30T10:11:47.2368096Z', 'response': ' send', 'done': False}\n",
      "{'model': 'qwen3:8b', 'created_at': '2025-08-30T10:11:47.6387254Z', 'response': '.\\n', 'done': False}\n",
      "{'model': 'qwen3:8b', 'created_at': '2025-08-30T10:11:48.0249881Z', 'response': '</think>', 'done': False}\n",
      "{'model': 'qwen3:8b', 'created_at': '2025-08-30T10:11:49.9549566Z', 'response': '\\n\\n', 'done': False}\n",
      "{'model': 'qwen3:8b', 'created_at': '2025-08-30T10:11:50.7955948Z', 'response': 'Hello', 'done': False}\n",
      "{'model': 'qwen3:8b', 'created_at': '2025-08-30T10:11:51.1291517Z', 'response': '!', 'done': False}\n",
      "{'model': 'qwen3:8b', 'created_at': '2025-08-30T10:11:51.886295Z', 'response': ' 😊', 'done': False}\n",
      "{'model': 'qwen3:8b', 'created_at': '2025-08-30T10:11:52.2899018Z', 'response': ' How', 'done': False}\n",
      "{'model': 'qwen3:8b', 'created_at': '2025-08-30T10:11:52.7165018Z', 'response': ' can', 'done': False}\n",
      "{'model': 'qwen3:8b', 'created_at': '2025-08-30T10:11:53.1521614Z', 'response': ' I', 'done': False}\n",
      "{'model': 'qwen3:8b', 'created_at': '2025-08-30T10:11:53.5522947Z', 'response': ' assist', 'done': False}\n",
      "{'model': 'qwen3:8b', 'created_at': '2025-08-30T10:11:54.0497823Z', 'response': ' you', 'done': False}\n",
      "{'model': 'qwen3:8b', 'created_at': '2025-08-30T10:11:54.5255255Z', 'response': ' today', 'done': False}\n",
      "{'model': 'qwen3:8b', 'created_at': '2025-08-30T10:11:54.9483968Z', 'response': '?', 'done': False}\n",
      "{'model': 'qwen3:8b', 'created_at': '2025-08-30T10:11:55.3391423Z', 'response': ' Let', 'done': False}\n",
      "{'model': 'qwen3:8b', 'created_at': '2025-08-30T10:11:55.676916Z', 'response': ' me', 'done': False}\n",
      "{'model': 'qwen3:8b', 'created_at': '2025-08-30T10:11:56.1596749Z', 'response': ' know', 'done': False}\n",
      "{'model': 'qwen3:8b', 'created_at': '2025-08-30T10:11:56.4796532Z', 'response': ' if', 'done': False}\n",
      "{'model': 'qwen3:8b', 'created_at': '2025-08-30T10:11:56.8522044Z', 'response': ' you', 'done': False}\n",
      "{'model': 'qwen3:8b', 'created_at': '2025-08-30T10:11:57.2360173Z', 'response': ' need', 'done': False}\n",
      "{'model': 'qwen3:8b', 'created_at': '2025-08-30T10:11:57.58318Z', 'response': ' help', 'done': False}\n",
      "{'model': 'qwen3:8b', 'created_at': '2025-08-30T10:11:57.9387415Z', 'response': ' with', 'done': False}\n",
      "{'model': 'qwen3:8b', 'created_at': '2025-08-30T10:11:58.8405251Z', 'response': ' anything', 'done': False}\n",
      "{'model': 'qwen3:8b', 'created_at': '2025-08-30T10:11:59.6086944Z', 'response': '!', 'done': False}\n",
      "{'model': 'qwen3:8b', 'created_at': '2025-08-30T10:11:59.9537112Z', 'response': '', 'done': True, 'done_reason': 'stop', 'context': [151644, 872, 198, 9707, 151645, 198, 151644, 77091, 198, 151667, 198, 32313, 11, 279, 1196, 1053, 330, 9707, 3263, 358, 1265, 5889, 304, 264, 11657, 323, 35287, 11566, 13, 6771, 752, 1281, 2704, 311, 24645, 862, 42113, 323, 3010, 12994, 13, 10696, 1191, 448, 264, 70314, 330, 9707, 8958, 311, 2432, 862, 16232, 13, 5005, 11, 2548, 1246, 358, 646, 1492, 1105, 3351, 13, 13655, 432, 4285, 323, 1787, 83075, 773, 807, 2666, 10655, 11560, 1128, 807, 1184, 13, 34006, 894, 6351, 4128, 476, 31846, 13, 4599, 264, 30339, 11, 47787, 2033, 13, 6771, 752, 1779, 369, 894, 13580, 966, 476, 5975, 13, 84194, 11, 429, 5868, 1661, 13, 30982, 311, 3624, 624, 151668, 271, 9707, 0, 26525, 232, 2585, 646, 358, 7789, 498, 3351, 30, 6771, 752, 1414, 421, 498, 1184, 1492, 448, 4113, 0], 'total_duration': 70224214200, 'load_duration': 13665562700, 'prompt_eval_count': 9, 'prompt_eval_duration': 8981784700, 'eval_count': 128, 'eval_duration': 47520251200}\n"
     ]
    }
   ],
   "source": [
    "for line in res.iter_lines():\n",
    "    if line:\n",
    "        data = json.loads(line)\n",
    "        print(data) "
   ]
  }
 ],
 "metadata": {
  "kernelspec": {
   "display_name": "Python 3 (ipykernel)",
   "language": "python",
   "name": "python3"
  },
  "language_info": {
   "codemirror_mode": {
    "name": "ipython",
    "version": 3
   },
   "file_extension": ".py",
   "mimetype": "text/x-python",
   "name": "python",
   "nbconvert_exporter": "python",
   "pygments_lexer": "ipython3",
   "version": "3.13.5"
  }
 },
 "nbformat": 4,
 "nbformat_minor": 5
}
